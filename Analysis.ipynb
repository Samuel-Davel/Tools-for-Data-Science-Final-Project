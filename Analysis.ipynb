{
    "cells": [
        {
            "cell_type": "markdown",
            "metadata": {
                "collapsed": true
            },
            "source": "# My Jupyter Notebook on IBM Watson Studio"
        },
        {
            "cell_type": "markdown",
            "metadata": {},
            "source": "**Sam Davel**\n<br> Occupation: Cyber Operation Officer"
        },
        {
            "cell_type": "markdown",
            "metadata": {},
            "source": "*As this course repeatedly highlighted, understanding and utilizing data is the future to success. By not furthering my understanding of this field, I am limiting myself and the organization I represent.*"
        },
        {
            "cell_type": "markdown",
            "metadata": {},
            "source": "### This code is a basic math calculation.... I kept it simple lol"
        },
        {
            "cell_type": "code",
            "execution_count": 3,
            "metadata": {},
            "outputs": [
                {
                    "name": "stdout",
                    "output_type": "stream",
                    "text": "20\n"
                }
            ],
            "source": "print(4*5)"
        },
        {
            "cell_type": "markdown",
            "metadata": {},
            "source": "#### bulleted list #### \n- A\n- B\n- C\n\n#### numbered list ####\n1. A\n2. B\n3. C\n\n#### strikethrough ####\n~~strikethrough~~"
        },
        {
            "cell_type": "code",
            "execution_count": null,
            "metadata": {},
            "outputs": [],
            "source": ""
        },
        {
            "cell_type": "code",
            "execution_count": null,
            "metadata": {},
            "outputs": [],
            "source": ""
        }
    ],
    "metadata": {
        "kernelspec": {
            "display_name": "Python 3.6",
            "language": "python",
            "name": "python3"
        },
        "language_info": {
            "codemirror_mode": {
                "name": "ipython",
                "version": 3
            },
            "file_extension": ".py",
            "mimetype": "text/x-python",
            "name": "python",
            "nbconvert_exporter": "python",
            "pygments_lexer": "ipython3",
            "version": "3.6.9"
        }
    },
    "nbformat": 4,
    "nbformat_minor": 1
}